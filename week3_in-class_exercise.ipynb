{
 "cells": [
  {
   "cell_type": "markdown",
   "id": "2b87884c-6119-4759-9775-e33597f939b9",
   "metadata": {},
   "source": [
    "# Week 3 Exercise (group)\n",
    "\n",
    "- member name1\n",
    "- member name2\n",
    "- member name3\n",
    "- ..."
   ]
  },
  {
   "cell_type": "markdown",
   "id": "9c5b4544-edb3-4989-9e48-fac8a5e725ab",
   "metadata": {},
   "source": [
    "## 1. Read the data\n",
    "\n",
    "1. import `pandas`\n",
    "2. use `pd.read_csv` to read `pre-course_survey.csv` as a dataframe\n",
    "3. print the shape of the dataframe"
   ]
  },
  {
   "cell_type": "code",
   "execution_count": null,
   "id": "cc970a55-f0e7-4d1c-9410-b8a2ed26ddcd",
   "metadata": {},
   "outputs": [],
   "source": [
    "# write your code below"
   ]
  },
  {
   "cell_type": "markdown",
   "id": "9d093693-4324-4420-8e1d-afc6b6fbb5ae",
   "metadata": {},
   "source": [
    "## 2. Rename the columns (Tuesday's lecture/in-class exercise)\n",
    "\n",
    "1. you can rename them with whatever names you want\n",
    "2. document each of your steps, explaining what you have done and why you did this"
   ]
  },
  {
   "cell_type": "code",
   "execution_count": null,
   "id": "238b355f-4d61-4e13-933f-366dac2b6d3f",
   "metadata": {},
   "outputs": [],
   "source": [
    "# write your code below"
   ]
  },
  {
   "cell_type": "markdown",
   "id": "2b922674-9cb8-4e18-9888-f75d3ea5a094",
   "metadata": {},
   "source": [
    "## 3. Deal with missing value\n",
    "\n",
    "1. check whether nan value exists (`.isnull().values.any()`)\n",
    "2. drop nan value (`.dropna()`)\n",
    "3. check duplicates (`df[df.duplicated()]`)\n",
    "4. drop duplicates (`.drop_duplicates()`)"
   ]
  },
  {
   "cell_type": "markdown",
   "id": "417a15b2-af2c-4c1c-a1ed-267b273b9419",
   "metadata": {},
   "source": [
    "## 4. Data processing\n",
    "\n",
    "1. recode columns with yes/no to 1/0 (Tuesday's lecture/in-class exercise)\n",
    "2. get the discriptive results of the dataframe (`.describe()`)\n",
    "3. write a paragraph to describe the results in step 2."
   ]
  },
  {
   "cell_type": "code",
   "execution_count": 1,
   "id": "521a363f-7892-4ec1-b2cb-f0593d695065",
   "metadata": {
    "tags": []
   },
   "outputs": [],
   "source": [
    "# write your code below"
   ]
  },
  {
   "cell_type": "markdown",
   "id": "b3a4eb8b-f80a-4780-b6ca-b52fbc865e82",
   "metadata": {},
   "source": [
    "## 5. Write everything into a function\n",
    "\n",
    "put what you have done from 1-4 into a function called `process_data`, where the input is your filename and the output is a dataframe"
   ]
  },
  {
   "cell_type": "code",
   "execution_count": null,
   "id": "90098f4f-a131-4179-9341-58505e3ca873",
   "metadata": {},
   "outputs": [],
   "source": [
    "def process_data(filename):\n",
    "    # read your data\n",
    "    df = \n",
    "    # rename the columns\n",
    "    \n",
    "    # drop nan\n",
    "    \n",
    "    # drop duplicates\n",
    "    \n",
    "    # recode yes/no to 1/0\n",
    "    \n",
    "    return df"
   ]
  },
  {
   "cell_type": "markdown",
   "id": "05efd7e5-ec80-4c72-97e6-a21b7ef49d72",
   "metadata": {},
   "source": [
    "## 6. Version control\n",
    "\n",
    "1. (week1 homework) remove `.ipynb_checkpoints/` & add `.gitignore` & put `.ipynb_checkpoints/` into `.gitignore`\n",
    "2. `git add .`\n",
    "3. `git commit -m \"your messages\"`\n",
    "4. `git push`\n",
    "\n",
    "HAVE FUN!"
   ]
  },
  {
   "cell_type": "code",
   "execution_count": null,
   "id": "689ea054-8132-4c8f-b121-cd0992baa872",
   "metadata": {},
   "outputs": [],
   "source": []
  }
 ],
 "metadata": {
  "kernelspec": {
   "display_name": "Python 3 (ipykernel)",
   "language": "python",
   "name": "python3"
  },
  "language_info": {
   "codemirror_mode": {
    "name": "ipython",
    "version": 3
   },
   "file_extension": ".py",
   "mimetype": "text/x-python",
   "name": "python",
   "nbconvert_exporter": "python",
   "pygments_lexer": "ipython3",
   "version": "3.10.9"
  }
 },
 "nbformat": 4,
 "nbformat_minor": 5
}
